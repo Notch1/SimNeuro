{
 "cells": [
  {
   "cell_type": "markdown",
   "metadata": {},
   "source": [
    "# Graded exercise: Modeling neurons"
   ]
  },
  {
   "cell_type": "markdown",
   "metadata": {},
   "source": [
    "Blue Brain Project / EPFL ©2005-2017. This notebook is under a [LGPLv3](https://raw.githubusercontent.com/BlueBrain/MOOC-neurons-and-synapses-2017/master/LICENSE.txt) license."
   ]
  },
  {
   "cell_type": "markdown",
   "metadata": {},
   "source": [
    "## Problem description"
   ]
  },
  {
   "cell_type": "markdown",
   "metadata": {},
   "source": [
    "In this exercise you should find the relationship between the diameter of a dendrite and the attenuation of synaptic EPSPs.\n",
    "\n",
    "An EPSP is the potential difference caused by the activation of a synapse. Below you find code that shows you the synaptic attenuation. By putting the synapse further and further from the soma, EPSPs become smaller and smaller, i.e. they are attenuated by traveling through the dendrite.\n",
    "\n",
    "Below you find the code to calculate the [exponential decay constant](https://en.wikipedia.org/wiki/Exponential_decay) of the EPSP amplitude.\n",
    "\n",
    "Now try to find the relationship between the (uniform) diameter of the dendrite, and the synaptic attenuation. For this vary the diameter (use 'for' loop) between .1 -> 10 micron.\n",
    "\n",
    "You can use:\n",
    "diam_range = numpy.linspace(.1, 10.0, 20)\n",
    "\n",
    "Save the exponential decay constant for each diameter, and plot the log of the exponential decay constant (on Y-axis) against the log of diam_range (on X-axis).\n",
    "\n",
    "This should form a linear relationship. Use numpy.polyfit to fit a line to this relationship.\n",
    "\n",
    "a, b = numpy.polyfit(x, y, 1)\n",
    "\n",
    "and send us the slope parameter 'a' of the fit."
   ]
  },
  {
   "cell_type": "code",
   "execution_count": 25,
   "metadata": {},
   "outputs": [
    {
     "data": {
      "image/png": "[encoded data removed]",
      "text/plain": [
       "<Figure size 432x288 with 1 Axes>"
      ]
     },
     "metadata": {
      "needs_background": "light"
     },
     "output_type": "display_data"
    },
    {
     "name": "stdout",
     "output_type": "stream",
     "text": [
      "[8.833480690308058, 3.713659346053643, 2.683202923598901, 2.1582001169945695, 1.8289444141710909, 1.600869560455349, 1.4332725806020847, 1.3043959143376156, 1.2017720860219827, 1.1177858186241807, 1.0478375306270584, 0.9881462301244176, 0.9364178836506719, 0.890475289746294, 0.8498647964678769, 0.8131949458185763, 0.7796280298939943, 0.7487608487414618, 0.7209016601345197, 0.6938030111853708]\n",
      "Slope parameter \"a\": -0.568625\n"
     ]
    }
   ],
   "source": [
    "# SOLUTION\n",
    "\n",
    "import neuron\n",
    "import numpy\n",
    "import matplotlib.pyplot as plt\n",
    "\n",
    "neuron.h.load_file(\"stdrun.hoc\");\n",
    "neuron.h.stdinit();\n",
    "\n",
    "# Define soma\n",
    "soma = neuron.h.Section(name='soma')\n",
    "soma.L = 40\n",
    "soma.diam = 40\n",
    "soma.insert('hh');\n",
    "soma.gl_hh = 5e-4 # Leak conductance, S/cm^2\n",
    "soma.el_hh = -65 # Reversal potential leak current, mV\n",
    "soma.gkbar_hh = 0.0 # in S/cm^2\n",
    "soma.gnabar_hh = 0.0\n",
    "\n",
    "# Define dendrite\n",
    "dend = neuron.h.Section(name='dend')\n",
    "dend.connect(soma, 0)\n",
    "dend.insert('hh')\n",
    "dend.el_hh = -65 # Reversal potential leak current, mV\n",
    "dend.gl_hh = 5e-4 # Leak conductance, S/cm^2\n",
    "dend.gkbar_hh = 0.0\n",
    "dend.gnabar_hh = 0.0\n",
    "dend.L = 400 # micron\n",
    "dend.diam = 1.0 # micron\n",
    "dend.nseg = 51 # number of segments in the dendritic section\n",
    "dend.Ra = 200\n",
    "\n",
    "# Record voltage\n",
    "time = neuron.h.Vector()\n",
    "voltage = neuron.h.Vector()\n",
    "\n",
    "time.record(neuron.h._ref_t)\n",
    "voltage.record(dend(0)._ref_v);\n",
    "\n",
    "voltage_dist = {}\n",
    "atts = []\n",
    "\n",
    "dend.diam = 0.1\n",
    "\n",
    "exp_decay = []\n",
    "\n",
    "diam_range = numpy.linspace(.1, 10.0, 20)\n",
    "for diam in diam_range:\n",
    "    dend.diam = diam\n",
    "\n",
    "    # Take distance from 25% -> 75% of dendrite to avoid boundary effects\n",
    "    distance_range = numpy.linspace(0.25, .75, 10)\n",
    "\n",
    "    # Add synapse \n",
    "    for syn_location in distance_range:\n",
    "        expsyn = neuron.h.ExpSyn(syn_location, sec=dend) \n",
    "    \n",
    "        netstim = neuron.h.NetStim()\n",
    "        netstim.interval = 1\n",
    "        netstim.number = 1\n",
    "        netstim.start = 20\n",
    "        netstim.noise = 0\n",
    "\n",
    "        netcon = neuron.h.NetCon(netstim, expsyn)\n",
    "        netcon.weight[0] = .01\n",
    "        neuron.h.tstop = 100\n",
    "        neuron.h.run()\n",
    "\n",
    "        voltage_dist[syn_location] = numpy.array(voltage)\n",
    "\n",
    "\n",
    "\n",
    "    # Store the EPSP sizes\n",
    "    epsp_size = []\n",
    "    for distance in distance_range:\n",
    "        # Get the EPSP size by subtracting the min (baseline) voltage from the max voltage\n",
    "        epsp_size.append(max(voltage_dist[distance])-min(voltage_dist[distance]))\n",
    "\n",
    "\n",
    "    # Bring x[0] to 0.0\n",
    "    x = distance_range-distance_range[0]\n",
    "\n",
    "    # Normalize\n",
    "    y = epsp_size/epsp_size[0]\n",
    "\n",
    "\n",
    "    # Fit a linear line to log plot\n",
    "    a, b = numpy.polyfit(x, numpy.log(y), 1)\n",
    "    exp_decay_constant = -a\n",
    "    exp_decay.append(exp_decay_constant)\n",
    "\n",
    "\n",
    "    \n",
    "# PLOT THE LOG OF THE EXPONENTIAL DECAY CONSTANT (on Y axis) AGAINST THE LOG OF DIAMETER RANGE (on X axis):\n",
    "\n",
    "plt.plot(numpy.log(diam_range), numpy.log(exp_decay))\n",
    "plt.xlabel('Diameter range (log)')\n",
    "plt.ylabel('Exponential decay constant (log)')\n",
    "plt.show()\n",
    "\n",
    "a, b = numpy.polyfit(numpy.log(diam_range), numpy.log(exp_decay), 1)\n",
    "\n",
    "print (exp_decay)\n",
    "\n",
    "print('Slope parameter \"a\":'' %f' % a)"
   ]
  }
 ],
 "metadata": {
  "kernelspec": {
   "display_name": "Python 3",
   "language": "python",
   "name": "python3"
  },
  "language_info": {
   "codemirror_mode": {
    "name": "ipython",
    "version": 3
   },
   "file_extension": ".py",
   "mimetype": "text/x-python",
   "name": "python",
   "nbconvert_exporter": "python",
   "pygments_lexer": "ipython3",
   "version": "3.7.6"
  },
  "submission_token": "wQIcpkqZTJeamTSYZV0NO68hw7fd"
 },
 "nbformat": 4,
 "nbformat_minor": 2
}
